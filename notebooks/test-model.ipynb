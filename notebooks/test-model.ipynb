{
 "cells": [
  {
   "cell_type": "code",
   "execution_count": 2,
   "metadata": {},
   "outputs": [],
   "source": [
    "import spacy\n",
    "import pickle\n",
    "import numpy as np\n",
    "from tensorflow.keras.models import load_model\n",
    "from tensorflow.keras.preprocessing.sequence import pad_sequences"
   ]
  },
  {
   "cell_type": "markdown",
   "metadata": {},
   "source": [
    "### LSTM"
   ]
  },
  {
   "cell_type": "code",
   "execution_count": 3,
   "metadata": {},
   "outputs": [],
   "source": [
    "model = load_model('../models/intent_lstm_model.keras')\n",
    "model.compile(optimizer='adam', loss='categorical_crossentropy', metrics=['accuracy'])\n",
    "\n",
    "with open('../models/tokenizer.pkl', 'rb') as file:\n",
    "    tokenizer = pickle.load(file)\n",
    "with open('../models/label_encoder.pkl', 'rb') as file:\n",
    "    label_encoder = pickle.load(file)\n",
    "\n",
    "def lstm_classify_intent(text):\n",
    "    text = text.lower()\n",
    "    \n",
    "    sequence = tokenizer.texts_to_sequences([text])\n",
    "    padded_sequence = pad_sequences(sequence, maxlen=model.input_shape[1], padding='post')\n",
    "    \n",
    "    prediction = model.predict(padded_sequence)\n",
    "    \n",
    "    predicted_index = np.argmax(prediction, axis=1)[0]\n",
    "    classified_intent = label_encoder.inverse_transform([predicted_index])[0]\n",
    "    confidence = np.max(prediction)\n",
    "    \n",
    "    return classified_intent, confidence"
   ]
  },
  {
   "cell_type": "code",
   "execution_count": 17,
   "metadata": {},
   "outputs": [
    {
     "name": "stdout",
     "output_type": "stream",
     "text": [
      "\u001b[1m1/1\u001b[0m \u001b[32m━━━━━━━━━━━━━━━━━━━━\u001b[0m\u001b[37m\u001b[0m \u001b[1m0s\u001b[0m 91ms/step\n",
      "Classified Intent: query_exam_status, Confidence: 0.997\n"
     ]
    }
   ],
   "source": [
    "test_text = \"Good afternoon! My name is Emma, and my ID is 1234567. The exam session starts next week. What is my registration status for Computer Networks exam?\"\n",
    "classified_intent, confidence = lstm_classify_intent(test_text)\n",
    "if (confidence >= 0.9):\n",
    "    print(f\"Classified Intent: {classified_intent}, Confidence: {confidence:.3f}\")\n",
    "else:\n",
    "    print(f\"Unknown Intent, Confidence: {confidence:.3f}\")"
   ]
  },
  {
   "cell_type": "markdown",
   "metadata": {},
   "source": [
    "### NER Model"
   ]
  },
  {
   "cell_type": "code",
   "execution_count": 5,
   "metadata": {},
   "outputs": [
    {
     "name": "stdout",
     "output_type": "stream",
     "text": [
      "Alice: last_name\n",
      "9012343.: matriculation_number\n",
      "Computer Networks: course_name\n"
     ]
    }
   ],
   "source": [
    "import string\n",
    "nlp = spacy.load(\"../models/custom_ner_model\")\n",
    "\n",
    "test_text = \"Good afternoon! My name is Alice, and my ID is 9012343. The exam session starts next week. What is my registration status for Computer Networks exam?\"\n",
    "doc = nlp(test_text)\n",
    "\n",
    "for ent in doc.ents:\n",
    "    clean_text = ent.text.strip(string.punctuation)\n",
    "    print(f\"{ent.text}: {ent.label_}\")"
   ]
  }
 ],
 "metadata": {
  "kernelspec": {
   "display_name": "trends-of-ai-semester-project",
   "language": "python",
   "name": "python3"
  },
  "language_info": {
   "codemirror_mode": {
    "name": "ipython",
    "version": 3
   },
   "file_extension": ".py",
   "mimetype": "text/x-python",
   "name": "python",
   "nbconvert_exporter": "python",
   "pygments_lexer": "ipython3",
   "version": "3.12.0"
  }
 },
 "nbformat": 4,
 "nbformat_minor": 2
}
