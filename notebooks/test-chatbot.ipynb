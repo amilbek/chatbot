{
 "cells": [
  {
   "cell_type": "code",
   "execution_count": 2,
   "metadata": {},
   "outputs": [
    {
     "name": "stdout",
     "output_type": "stream",
     "text": [
      "\u001b[1m1/1\u001b[0m \u001b[32m━━━━━━━━━━━━━━━━━━━━\u001b[0m\u001b[37m\u001b[0m \u001b[1m0s\u001b[0m 85ms/step\n",
      "Predicted intent: scholarship\n"
     ]
    }
   ],
   "source": [
    "from tensorflow.keras.models import load_model\n",
    "import pickle\n",
    "import numpy as np\n",
    "from tensorflow.keras.preprocessing.sequence import pad_sequences\n",
    "\n",
    "# Load the trained model and tokenizer\n",
    "model = load_model('../models/chatbot_model34.keras')\n",
    "\n",
    "with open('../models/tokenizer.pickle', 'rb') as handle:\n",
    "    tokenizer = pickle.load(handle)\n",
    "\n",
    "# Load the LabelEncoder object\n",
    "with open('../models/label_encoder.pickle', 'rb') as le_file:\n",
    "    le = pickle.load(le_file)\n",
    "\n",
    "# Preprocess the input text\n",
    "def preprocess_input(text, tokenizer, max_len):\n",
    "    # Tokenize the input text\n",
    "    encoded_text = tokenizer.texts_to_sequences([text])\n",
    "    \n",
    "    # Pad the sequence to the correct length (max_len=9)\n",
    "    padded_text = pad_sequences(encoded_text, maxlen=max_len, padding='post')\n",
    "    \n",
    "    return padded_text\n",
    "\n",
    "# Example text input\n",
    "text = \"scholarship for ERASMUS+ student\"\n",
    "\n",
    "# Ensure max_len is set to the same value used during training (e.g., 9)\n",
    "max_len = 9\n",
    "padded_text = preprocess_input(text, tokenizer, max_len)\n",
    "\n",
    "# Predict the intent\n",
    "prediction = model.predict(padded_text)\n",
    "predicted_class = np.argmax(prediction, axis=1)\n",
    "\n",
    "# Get the corresponding intent label\n",
    "predicted_intent = le.inverse_transform(predicted_class)\n",
    "print(f\"Predicted intent: {predicted_intent[0]}\")"
   ]
  }
 ],
 "metadata": {
  "kernelspec": {
   "display_name": "trends-of-ai-semester-project",
   "language": "python",
   "name": "python3"
  },
  "language_info": {
   "codemirror_mode": {
    "name": "ipython",
    "version": 3
   },
   "file_extension": ".py",
   "mimetype": "text/x-python",
   "name": "python",
   "nbconvert_exporter": "python",
   "pygments_lexer": "ipython3",
   "version": "3.12.0"
  }
 },
 "nbformat": 4,
 "nbformat_minor": 2
}
