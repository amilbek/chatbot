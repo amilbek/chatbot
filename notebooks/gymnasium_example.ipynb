{
 "cells": [
  {
   "cell_type": "code",
   "execution_count": null,
   "metadata": {},
   "outputs": [],
   "source": [
    "from time import sleep\n",
    "import gymnasium as gym\n",
    "\n",
    "env = gym.make(\"CartPole-v0\", render_mode=\"human\")\n",
    "env.reset()\n",
    "\n",
    "for _ in range(1000):\n",
    "    observation, reward, done, truncated, info = env.step(env.action_space.sample())\n",
    "    sleep(0.1)\n",
    "    env.render()\n",
    "    if done:\n",
    "        env.reset()\n",
    "env.close()"
   ]
  }
 ],
 "metadata": {
  "kernelspec": {
   "display_name": "Python 3 (ipykernel)",
   "language": "python",
   "name": "python3"
  },
  "language_info": {
   "codemirror_mode": {
    "name": "ipython",
    "version": 3
   },
   "file_extension": ".py",
   "mimetype": "text/x-python",
   "name": "python",
   "nbconvert_exporter": "python",
   "pygments_lexer": "ipython3",
   "version": "3.12.0"
  }
 },
 "nbformat": 4,
 "nbformat_minor": 4
}
