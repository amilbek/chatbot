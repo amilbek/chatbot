{
 "cells": [
  {
   "cell_type": "code",
   "execution_count": null,
   "metadata": {},
   "outputs": [],
   "source": [
    "import pandas as pd\n",
    "from sklearn.feature_extraction.text import CountVectorizer\n",
    "import spacy\n",
    "import pickle\n",
    "import numpy as np\n",
    "from tensorflow.keras.models import load_model\n",
    "from tensorflow.keras.preprocessing.sequence import pad_sequences\n",
    "import sqlite3\n",
    "from datetime import datetime \n",
    "import random\n",
    "import json"
   ]
  },
  {
   "cell_type": "markdown",
   "metadata": {},
   "source": [
    "## Models"
   ]
  },
  {
   "cell_type": "code",
   "execution_count": null,
   "metadata": {},
   "outputs": [],
   "source": [
    "intents_entities = {\n",
    "    \"change_first_name\": [\"matriculation_number\", \"first_name\"],\n",
    "    \"change_last_name\": [\"matriculation_number\", \"last_name\"],\n",
    "    \"change_address\": [\"matriculation_number\", \"address\", \"city\", \"post_code\"],\n",
    "    \"register_exam\": [\"matriculation_number\", \"course_name\"],\n",
    "    \"deregister_exam\": [\"matriculation_number\", \"course_name\"],\n",
    "    \"query_exam_status\": [\"matriculation_number\", \"course_name\"],\n",
    "    \"query_exam_grade\": [\"matriculation_number\", \"course_name\"],\n",
    "    \"receive_exam_schedule\": [\"matriculation_number\"]\n",
    "}"
   ]
  },
  {
   "cell_type": "markdown",
   "metadata": {},
   "source": [
    "### LSTM"
   ]
  },
  {
   "cell_type": "code",
   "execution_count": null,
   "metadata": {},
   "outputs": [],
   "source": [
    "model = load_model('../models/intent_lstm_model.keras')\n",
    "model.compile(optimizer='adam', loss='categorical_crossentropy', metrics=['accuracy'])\n",
    "\n",
    "with open('../models/tokenizer.pkl', 'rb') as file:\n",
    "    tokenizer = pickle.load(file)\n",
    "with open('../models/label_encoder.pkl', 'rb') as file:\n",
    "    label_encoder = pickle.load(file)\n",
    "\n",
    "def lstm_classify_intent(text):\n",
    "    text = text.lower()\n",
    "    \n",
    "    sequence = tokenizer.texts_to_sequences([text])\n",
    "    padded_sequence = pad_sequences(sequence, maxlen=model.input_shape[1], padding='post')\n",
    "    \n",
    "    prediction = model.predict(padded_sequence)\n",
    "    \n",
    "    predicted_index = np.argmax(prediction, axis=1)[0]\n",
    "    classified_intent = label_encoder.inverse_transform([predicted_index])[0]\n",
    "    confidence = np.max(prediction)\n",
    "    \n",
    "    return classified_intent, confidence"
   ]
  },
  {
   "cell_type": "code",
   "execution_count": null,
   "metadata": {},
   "outputs": [
    {
     "name": "stdout",
     "output_type": "stream",
     "text": [
      "\u001b[1m1/1\u001b[0m \u001b[32m━━━━━━━━━━━━━━━━━━━━\u001b[0m\u001b[37m\u001b[0m \u001b[1m0s\u001b[0m 362ms/step\n",
      "Classified Intent: query_exam_status, Confidence: 0.996\n"
     ]
    }
   ],
   "source": [
    "test_text = \"Good afternoon! My name is Emma, and my ID is 1234567. The exam session starts next week. What is my registration status for Computer Networks exam?\"\n",
    "classified_intent, confidence = lstm_classify_intent(test_text)\n",
    "if (confidence >= 0.9):\n",
    "    print(f\"Classified Intent: {classified_intent}, Confidence: {confidence:.3f}\")\n",
    "else:\n",
    "    print(f\"Unknown Intent, Confidence: {confidence:.3f}\")"
   ]
  },
  {
   "cell_type": "markdown",
   "metadata": {},
   "source": [
    "### NER Model"
   ]
  },
  {
   "cell_type": "code",
   "execution_count": null,
   "metadata": {},
   "outputs": [
    {
     "name": "stdout",
     "output_type": "stream",
     "text": [
      "Alice: last_name\n",
      "1234567.: matriculation_number\n",
      "Computer Networks: course_name\n"
     ]
    }
   ],
   "source": [
    "import string\n",
    "nlp = spacy.load(\"../models/custom_ner_model\")\n",
    "\n",
    "test_text = \"Good afternoon! My name is Alice, and my ID is 1234567. The exam session starts next week. What is my registration status for Computer Networks exam?\"\n",
    "doc = nlp(test_text)\n",
    "\n",
    "for ent in doc.ents:\n",
    "    clean_text = ent.text.strip(string.punctuation)\n",
    "    print(f\"{ent.text}: {ent.label_}\")"
   ]
  },
  {
   "cell_type": "markdown",
   "metadata": {},
   "source": [
    "### Classification"
   ]
  },
  {
   "cell_type": "code",
   "execution_count": null,
   "metadata": {},
   "outputs": [],
   "source": [
    "def find_missed_entities(classified_intent, detected_entities):\n",
    "    print(f'LOG find_missed_entities: classified_intent {classified_intent}, detected_entities {detected_entities}')\n",
    "    required_entities = intents_entities.get(classified_intent, [])\n",
    "    missed_entities = [entity for entity in required_entities if entity not in detected_entities]\n",
    "    return missed_entities\n",
    "\n",
    "def chatbot_classification_with_entity_validation(user_input):\n",
    "    print(f'LOG chatbot_classification_with_entity_validation: user_input {user_input}')\n",
    "    classified_intent, confidence = lstm_classify_intent(user_input)\n",
    "\n",
    "    nlp = spacy.load(\"../models/custom_ner_model\")\n",
    "\n",
    "    doc = nlp(user_input)\n",
    "    detected_entities = {}\n",
    "    for ent in doc.ents:\n",
    "        detected_entities[ent.label_] = ent.text\n",
    "\n",
    "    missed_entities = find_missed_entities(classified_intent, detected_entities)\n",
    "\n",
    "    return classified_intent, confidence, detected_entities, missed_entities"
   ]
  },
  {
   "cell_type": "code",
   "execution_count": null,
   "metadata": {},
   "outputs": [
    {
     "name": "stdout",
     "output_type": "stream",
     "text": [
      "LOG chatbot_classification_with_entity_validation: user_input Good morning, my name is Meier (123456) and I've moved. I now live in 44143 Dortmund at Hauptstrasse 12. Please change my address.\n",
      "\u001b[1m1/1\u001b[0m \u001b[32m━━━━━━━━━━━━━━━━━━━━\u001b[0m\u001b[37m\u001b[0m \u001b[1m0s\u001b[0m 20ms/step\n",
      "LOG find_missed_entities: classified_intent change_address, detected_entities {'post_code': '44143', 'city': 'Dortmund', 'address': 'Hauptstrasse 12.'}\n",
      "Classified Intent: change_address, Confidence: 0.999\n",
      "Detected Entities: {'post_code': '44143', 'city': 'Dortmund', 'address': 'Hauptstrasse 12.'}\n",
      "Missed Entities: ['matriculation_number']\n"
     ]
    }
   ],
   "source": [
    "user_input = \"Good morning, my name is Meier (123456) and I've moved. I now live in 44143 Dortmund at Hauptstrasse 12. Please change my address.\"\n",
    "classified_intent, confidence, detected_entities, missed_entities = chatbot_classification_with_entity_validation(user_input)\n",
    "\n",
    "\n",
    "if (confidence >= 0.985):\n",
    "    print(f\"Classified Intent: {classified_intent}, Confidence: {confidence:.3f}\")\n",
    "else:\n",
    "    print(f\"Unknown Intent, Confidence: {confidence:.3f}\")\n",
    "print(f\"Detected Entities: {detected_entities}\")\n",
    "print(f\"Missed Entities: {missed_entities}\")"
   ]
  },
  {
   "cell_type": "markdown",
   "metadata": {},
   "source": [
    "## Database Manipulation"
   ]
  },
  {
   "cell_type": "code",
   "execution_count": null,
   "metadata": {},
   "outputs": [
    {
     "data": {
      "text/plain": [
       "<sqlite3.Cursor at 0x296cb5d40>"
      ]
     },
     "metadata": {},
     "output_type": "display_data"
    }
   ],
   "source": [
    "connection = sqlite3.connect('../database/shared_database.db')\n",
    "cursor = connection.cursor()\n",
    "cursor"
   ]
  },
  {
   "cell_type": "code",
   "execution_count": null,
   "metadata": {},
   "outputs": [
    {
     "name": "stdout",
     "output_type": "stream",
     "text": [
      "[(1, 'Jurgen', 'Muller', '1234567')]\n"
     ]
    }
   ],
   "source": [
    "matriculation_number = '1234567'\n",
    "cursor.execute('SELECT * FROM students WHERE matriculation_number = ?', (matriculation_number,))\n",
    "print(cursor.fetchall())"
   ]
  },
  {
   "cell_type": "code",
   "execution_count": null,
   "metadata": {},
   "outputs": [
    {
     "name": "stdout",
     "output_type": "stream",
     "text": [
      "[(1, 'Am Gardenkamp 51', 'Dortmund', '44227', 1)]\n"
     ]
    }
   ],
   "source": [
    "cursor.execute('SELECT * FROM student_address WHERE id = 1')\n",
    "print(cursor.fetchall())"
   ]
  },
  {
   "cell_type": "code",
   "execution_count": null,
   "metadata": {},
   "outputs": [],
   "source": [
    "def change_first_name(first_name, matriculation_number):\n",
    "    print(f'LOG change_first_name: Change the first name to {first_name} for {matriculation_number}')\n",
    "    try:\n",
    "        cursor.execute('SELECT id FROM students WHERE matriculation_number = ?', (matriculation_number,))\n",
    "        student_id_result = cursor.fetchone()\n",
    "        if not student_id_result:\n",
    "            return \"Student not found\"\n",
    "        cursor.execute('UPDATE students SET first_name = ? WHERE matriculation_number = ?', (first_name, matriculation_number))\n",
    "        connection.commit()\n",
    "        \n",
    "        return f\"Your first name changed to {first_name} successfully\"\n",
    "    except Exception as e:\n",
    "        return f\"An error occurred while changing the first name: {str(e)}\"\n",
    "\n",
    "def change_last_name(last_name, matriculation_number):\n",
    "    print(f'LOG change_last_name: Change the last name to {last_name} for {matriculation_number}')\n",
    "    try:\n",
    "        cursor.execute('SELECT id FROM students WHERE matriculation_number = ?', (matriculation_number,))\n",
    "        student_id_result = cursor.fetchone()\n",
    "        if not student_id_result:\n",
    "            return \"Student not found\"\n",
    "        cursor.execute('UPDATE students SET last_name = ? WHERE matriculation_number = ?', (last_name, matriculation_number))\n",
    "        connection.commit()\n",
    "\n",
    "        return f\"Your last name changed to {last_name} successfully\"\n",
    "    except Exception as e:\n",
    "        return f\"An error occurred while changing the last name: {str(e)}\"\n",
    "\n",
    "def change_address(address, city, post_code, matriculation_number):\n",
    "    print(f'LOG change_address: Change address {address}, city {city}, post_code {post_code}, for {matriculation_number}')\n",
    "    try:\n",
    "        cursor.execute('SELECT id FROM students WHERE matriculation_number = ?', (matriculation_number,))\n",
    "        student_id_result = cursor.fetchone()\n",
    "        if not student_id_result:\n",
    "            return \"Student not found\"\n",
    "        student_id = student_id_result[0]\n",
    "        cursor.execute('UPDATE student_address SET address = ?, city = ?, post_code = ? WHERE student_id = ?', \n",
    "                    (address, city, post_code, student_id))\n",
    "        connection.commit()\n",
    "\n",
    "        return f\"Your address changed to {address}, {city} {post_code} successfully\"\n",
    "    except Exception as e:\n",
    "        return f\"An error occurred while changing address: {str(e)}\"\n",
    "    \n",
    "def register_exam(course_name, matriculation_number):\n",
    "    print(f'LOG register_exam: Register {matriculation_number} for exam {course_name}')\n",
    "    try:\n",
    "        cursor.execute('SELECT id FROM students WHERE matriculation_number = ?', (matriculation_number,))\n",
    "        student_id_result = cursor.fetchone()\n",
    "        if not student_id_result:\n",
    "            return f\"Student with matriculation number {matriculation_number} is not found\"\n",
    "        student_id = student_id_result[0]\n",
    "\n",
    "        cursor.execute('SELECT id FROM courses WHERE name = ?', (course_name,))\n",
    "        student_id_result = cursor.fetchone()\n",
    "        if not student_id_result:\n",
    "            return f\"Course with name {course_name} is not found\"\n",
    "        course_id = student_id_result[0]\n",
    "\n",
    "        cursor.execute('SELECT id, time FROM exams WHERE course_id = ?', (course_id,))\n",
    "        exam_result = cursor.fetchone()\n",
    "        if not exam_result:\n",
    "            return f\"{course_name} exam is not found\"\n",
    "        exam_id, exam_time = exam_result\n",
    "\n",
    "        exam_datetime = datetime.strptime(exam_time, '%Y-%m-%d %H:%M:%S')\n",
    "        current_time = datetime.now()\n",
    "\n",
    "        if exam_datetime < current_time:\n",
    "            return f\"{course_name} exam already completed on {exam_time}\"\n",
    "\n",
    "        cursor.execute('INSERT INTO student_exams (student_id, exam_id) VALUES (?, ?)', (student_id, exam_id))\n",
    "        connection.commit()\n",
    "\n",
    "        return f\"You registered for {course_name} exam successfully\"\n",
    "    except Exception as e:\n",
    "        return f\"An error occurred while registering for the exam: {str(e)}\"\n",
    "\n",
    "def deregister_exam(course_name, matriculation_number):\n",
    "    print(f'LOG deregister_exam: Deregister {matriculation_number} from exam {course_name}')\n",
    "    try:\n",
    "        cursor.execute('SELECT id FROM students WHERE matriculation_number = ?', (matriculation_number,))\n",
    "        student_id_result = cursor.fetchone()\n",
    "        if not student_id_result:\n",
    "            return f\"Student with matriculation number {matriculation_number} is not found\"\n",
    "        student_id = student_id_result[0]\n",
    "\n",
    "        cursor.execute('SELECT id FROM courses WHERE name = ?', (course_name,))\n",
    "        student_id_result = cursor.fetchone()\n",
    "        if not student_id_result:\n",
    "            return f\"Course with name {course_name} is not found\"\n",
    "        course_id = student_id_result[0]\n",
    "\n",
    "        cursor.execute('SELECT id, time FROM exams WHERE course_id = ?', (course_id,))\n",
    "        exam_id_result = cursor.fetchone()\n",
    "        if not exam_id_result:\n",
    "            return f\"{course_name} exam is not found\"\n",
    "        exam_id, exam_time = exam_id_result\n",
    "\n",
    "        exam_datetime = datetime.strptime(exam_time, '%Y-%m-%d %H:%M:%S')\n",
    "        current_time = datetime.now()\n",
    "\n",
    "        if exam_datetime < current_time:\n",
    "            return f\"{course_name} exam already completed on {exam_time}\"\n",
    "\n",
    "        cursor.execute('DELETE student_exams where student_id = ? and exam_id = ?', (student_id, exam_id))\n",
    "        connection.commit()\n",
    "\n",
    "        return f\"You deregistered from {course_name} exam successfully\"\n",
    "    except Exception as e:\n",
    "        return f\"An error occurred while dereginstering from the exam: {str(e)}\"\n",
    "\n",
    "def query_exam_status(course_name, matriculation_number):\n",
    "    print(f'LOG query_exam_status: Query exam status {matriculation_number} for exam {course_name}')\n",
    "    try:\n",
    "        cursor.execute('SELECT id FROM students WHERE matriculation_number = ?', (matriculation_number,))\n",
    "        student_id_result = cursor.fetchone()\n",
    "        if not student_id_result:\n",
    "            return f\"Student with matriculation number {matriculation_number} is not found\"\n",
    "        student_id = student_id_result[0]\n",
    "\n",
    "        cursor.execute('SELECT id FROM courses WHERE name = ?', (course_name,))\n",
    "        course_id_result = cursor.fetchone()\n",
    "        if not course_id_result:\n",
    "            return f\"Course with name {course_name} is not found\"\n",
    "        course_id = course_id_result[0]\n",
    "\n",
    "        cursor.execute('SELECT id, time FROM exams WHERE course_id = ?', (course_id,))\n",
    "        exam_result = cursor.fetchone()\n",
    "        if not exam_result:\n",
    "            return f\"{course_name} exam is not found\"\n",
    "        exam_id, exam_time = exam_result\n",
    "\n",
    "        cursor.execute('SELECT * FROM student_exams WHERE exam_id = ? AND student_id = ?', (exam_id, student_id))\n",
    "        student_exam_result = cursor.fetchone()\n",
    "        if not student_exam_result:\n",
    "            return f\"Your status for {course_name} is Not Registered\"\n",
    "        \n",
    "        exam_datetime = datetime.strptime(exam_time, '%Y-%m-%d %H:%M:%S')\n",
    "        current_time = datetime.now()\n",
    "\n",
    "        if exam_datetime > current_time:\n",
    "            return f\"Your status for {course_name} is Registered\"\n",
    "        else:\n",
    "            return f\"Examination for {course_name} already completed\"\n",
    "    except Exception as e:\n",
    "        return f\"An error occurred while quering the exam status: {str(e)}\"\n",
    "\n",
    "\n",
    "def query_exam_grade(course_name, matriculation_number):\n",
    "    print(f'LOG query_exam_grade: Query grade {matriculation_number} for exam {course_name}')\n",
    "    \n",
    "    try:\n",
    "        cursor.execute('SELECT id FROM students WHERE matriculation_number = ?', (matriculation_number,))\n",
    "        student_id_result = cursor.fetchone()\n",
    "        if not student_id_result:\n",
    "            return f\"Student with matriculation number {matriculation_number} is not found\"\n",
    "        student_id = student_id_result[0]\n",
    "\n",
    "        cursor.execute('SELECT id FROM courses WHERE name = ?', (course_name,))\n",
    "        course_id_result = cursor.fetchone()\n",
    "        if not course_id_result:\n",
    "            return f\"Course with name {course_name} is not found\"\n",
    "        course_id = course_id_result[0]\n",
    "\n",
    "        cursor.execute('SELECT id FROM exams WHERE course_id = ?', (course_id,))\n",
    "        exam_id_result = cursor.fetchone()\n",
    "        if not exam_id_result:\n",
    "            return f\"{course_name} exam is not found\"\n",
    "        exam_id = exam_id_result[0]\n",
    "\n",
    "        cursor.execute('SELECT grade FROM student_exam_grades WHERE exam_id = ? AND student_id = ?', (exam_id, student_id))\n",
    "        student_exam_grade_result = cursor.fetchone()\n",
    "        if not student_exam_grade_result:\n",
    "            return \"Exam is not passed\"\n",
    "        student_exam_grade = student_exam_grade_result[0]\n",
    "        return f\"Your grade for {course_name} exam is {student_exam_grade}\"\n",
    "    except Exception as e:\n",
    "        return f\"An error occurred while quering the exam grade: {str(e)}\""
   ]
  },
  {
   "cell_type": "code",
   "execution_count": null,
   "metadata": {},
   "outputs": [
    {
     "name": "stdout",
     "output_type": "stream",
     "text": [
      "LOG query_exam_grade: Query grade 1234567 for exam Artificial Intelligence\n"
     ]
    },
    {
     "data": {
      "text/plain": [
       "'Your grade for Artificial Intelligence exam is A'"
      ]
     },
     "metadata": {},
     "output_type": "display_data"
    }
   ],
   "source": [
    "query_exam_grade('Artificial Intelligence', '1234567')"
   ]
  },
  {
   "cell_type": "code",
   "execution_count": null,
   "metadata": {},
   "outputs": [],
   "source": [
    "actions = {\n",
    "    \"change_first_name\": change_first_name,\n",
    "    \"change_last_name\": change_last_name,\n",
    "    \"change_address\": change_address,\n",
    "    \"register_exam\": register_exam,\n",
    "    \"deregister_exam\": deregister_exam,\n",
    "    \"query_exam_status\": query_exam_status,\n",
    "    \"query_exam_grade\": query_exam_grade\n",
    "}"
   ]
  },
  {
   "cell_type": "code",
   "execution_count": null,
   "metadata": {},
   "outputs": [],
   "source": [
    "reading_database = [\"query_exam_status\", \"query_exam_grade\"]\n",
    "writing_database = [\"change_first_name\", \"change_last_name\", \"change_address\", \"register_exam\", \"deregister_exam\", \"change_last_name\"]"
   ]
  },
  {
   "cell_type": "code",
   "execution_count": null,
   "metadata": {},
   "outputs": [],
   "source": [
    "human_readable_entity = {\n",
    "    'matriculation_number': \"matriculation number\",\n",
    "    'course_name': 'course name',\n",
    "    'address': 'address',\n",
    "    'city': 'city',\n",
    "    'post_code': 'post code',\n",
    "    'first_name': 'first name',\n",
    "    'last_name': 'last name'\n",
    "}"
   ]
  },
  {
   "cell_type": "code",
   "execution_count": null,
   "metadata": {},
   "outputs": [],
   "source": [
    "def check_missing_entities(missed_entities):\n",
    "    print(f'LOG: check_missing_entities: {missed_entities}')\n",
    "    if missed_entities:\n",
    "        missing_info = ', '.join([human_readable_entity[entity] for entity in missed_entities])\n",
    "        return f\"Missing information: {missing_info}. Please provide the required details.\"\n",
    "    \n",
    "def get_action_by_intent(classified_intent):\n",
    "    print(f'LOG: get_action_by_intent: {classified_intent}')\n",
    "    action = actions.get(classified_intent)\n",
    "    if not action:\n",
    "        return \"Sorry, I couldn't identify the correct action to take.\", False\n",
    "    return action, True\n",
    "\n",
    "def process_user_request(action, detected_entities):\n",
    "    print(f'LOG: process_user_request: action {action}, detected_entities {detected_entities}')\n",
    "    try:\n",
    "        required_entities = intents_entities.get(action.__name__, [])\n",
    "        \n",
    "        action_arguments = {\n",
    "            key: value for key, value in detected_entities.items() if key in required_entities\n",
    "        }\n",
    "\n",
    "        print(f'LOG: process_user_request: action_arguments {action_arguments}')\n",
    "        return(action(**action_arguments))\n",
    "    except Exception as e:\n",
    "        return f\"An error occurred while performing the operation: {str(e)}\""
   ]
  },
  {
   "cell_type": "code",
   "execution_count": null,
   "metadata": {},
   "outputs": [
    {
     "name": "stdout",
     "output_type": "stream",
     "text": [
      "LOG chatbot_classification_with_entity_validation: user_input What is my grade for Artificial Intelligence exam?\n",
      "\u001b[1m1/1\u001b[0m \u001b[32m━━━━━━━━━━━━━━━━━━━━\u001b[0m\u001b[37m\u001b[0m \u001b[1m0s\u001b[0m 20ms/step\n",
      "LOG find_missed_entities: classified_intent query_exam_grade, detected_entities {'course_name': 'Artificial Intelligence'}\n",
      "Classified Intent: query_exam_grade, Confidence: 0.996\n",
      "Detected Entities: {'course_name': 'Artificial Intelligence'}\n",
      "Missed Entities: ['matriculation_number']\n",
      "LOG: check_missing_entities: ['matriculation_number']\n"
     ]
    }
   ],
   "source": [
    "user_input = \"What is my grade for Artificial Intelligence exam?\"\n",
    "classified_intent, confidence, detected_entities, missed_entities = chatbot_classification_with_entity_validation(user_input)\n",
    "\n",
    "if (confidence >= 0.7):\n",
    "    print(f\"Classified Intent: {classified_intent}, Confidence: {confidence:.3f}\")\n",
    "    print(f\"Detected Entities: {detected_entities}\")\n",
    "    print(f\"Missed Entities: {missed_entities}\")\n",
    "else:\n",
    "    classified_intent = \"unknown_intent\"\n",
    "    print(f\"Unknown Intent, Confidence: {confidence:.3f}\")\n",
    "\n",
    "check = check_missing_entities(missed_entities)\n",
    "\n",
    "if not check:\n",
    "    action, check = get_action_by_intent(classified_intent)\n",
    "    print(action)\n",
    "    if (check):\n",
    "        response = process_user_request(action, detected_entities)\n",
    "        print(response)"
   ]
  },
  {
   "cell_type": "markdown",
   "metadata": {},
   "source": [
    "## Chat"
   ]
  },
  {
   "cell_type": "code",
   "execution_count": null,
   "metadata": {},
   "outputs": [],
   "source": [
    "with open(\"../data/raw/rule_based_intents.json\", \"r\") as file:\n",
    "    rule_based_data = json.load(file)"
   ]
  },
  {
   "cell_type": "code",
   "execution_count": null,
   "metadata": {},
   "outputs": [
    {
     "name": "stdout",
     "output_type": "stream",
     "text": [
      ">>>>>>>>>>>>>>>>>>>Chatbot: Hello! I am your university chatbot. How can I help you?\n",
      ">>>>>>>>>>>>>>>>>>>You: What is my grade for Artificial Intelligence exam?\n",
      "LOG match_rule_based_intent: user_input: What is my grade for Artificial Intelligence exam?, rule_based_data: {'greeting': {'patterns': ['hello', 'hi', 'good morning', 'good afternoon', 'hey', 'greetings'], 'responses': ['Hello! How can I assist you today?', 'Hi there! What can I do for you?']}, 'farewell': {'patterns': ['bye', 'goodbye', 'see you', 'take care', 'farewell'], 'responses': ['Goodbye! Have a great day!', 'See you later! Take care!']}, 'thanksgiving': {'patterns': ['thank you', 'thanks', 'appreciate it', 'grateful'], 'responses': [\"You're welcome!\", 'Glad I could help!']}, 'chatbot_identity': {'patterns': ['who are you', 'what are you', 'tell me about yourself', 'what is this', 'who am I talking to', \"what's your name\"], 'responses': [\"I am StudentDesk, your university chatbot. I'm here to assist you with any queries.\", \"I'm StudentDesk, your virtual assistant for university-related tasks.\"]}, 'chatbot_creation': {'patterns': ['who created you', 'who made you', 'who developed you', 'who built you', \"what's your origin\"], 'responses': [\"I was created by the university's development team to assist students like you.\", \"The university's IT team developed me to help answer your questions and simplify student services.\"]}, 'chatbot_creation_date': {'patterns': ['when were you created', 'how old are you', 'when did you start', 'how long have you been here'], 'responses': ['I was created in 2024 to help make student life easier.', \"I came into existence in 2024, and I've been assisting students ever since.\"]}, 'chatbot_capabilities': {'patterns': ['what can you do', 'what are your abilities', 'how can you help me', 'what is your purpose', 'what do you do', 'what services do you provide'], 'responses': ['I can help you with exam registrations, check your exam status, grades, schedules, and more.', 'I assist with university-related queries, such as registering for exams, updating personal details, and checking exam results.']}, 'chatbot_behavior': {'patterns': ['are you human', 'are you an AI', 'do you have feelings', 'how do you work', 'are you a robot'], 'responses': ['I’m an AI-powered chatbot designed to assist with your queries. I don’t have feelings, but I’m always here to help!', 'I’m not human – I’m a virtual assistant powered by artificial intelligence to help you with university tasks.']}, 'chatbot_availability': {'patterns': ['are you always available', 'are you online', 'can you help me anytime', 'are you 24/7'], 'responses': ['Yes, I’m available 24/7 to assist you with your questions and tasks.', 'I’m always here whenever you need help – day or night!']}, 'chatbot_limitations': {'patterns': ['what can’t you do', 'do you have limitations', 'are you perfect', 'what if you don’t know the answer'], 'responses': ['I can’t handle all tasks yet, but I’m constantly improving. If I don’t know something, I’ll let you know.', 'While I can help with university-related tasks, I might not have answers to everything. Let’s see how I can help you!']}, 'chatbot_funny_questions': {'patterns': ['do you sleep', 'do you dream', 'can you take over the world', 'are you smarter than me', 'are you alive'], 'responses': ['I don’t need sleep or dreams – I’m here to help you 24/7!', 'Taking over the world isn’t in my plans. Helping students is my only mission!']}, 'chatbot_personalization': {'patterns': ['do you know my name', 'can you remember me', 'can you forget me', 'can you store my information', 'do you track my data'], 'responses': ['I don’t store personal data unless you share it with me for specific tasks. Your privacy is important!', 'I only use the information you provide to assist you. I don’t track or store unnecessary data.']}, 'fallback': {'patterns': [], 'responses': ['I’m not sure how to answer that, but I can help with university-related tasks.', 'Can you clarify your question? I’m here to help with exam schedules, registrations, and student information.']}}\n",
      "LOG chatbot_classification_with_entity_validation: user_input What is my grade for Artificial Intelligence exam?\n",
      "\u001b[1m1/1\u001b[0m \u001b[32m━━━━━━━━━━━━━━━━━━━━\u001b[0m\u001b[37m\u001b[0m \u001b[1m0s\u001b[0m 20ms/step\n",
      "LOG find_missed_entities: classified_intent query_exam_grade, detected_entities {'course_name': 'Artificial Intelligence'}\n",
      "LOG: Classified Intent: query_exam_grade, Confidence: 0.996\n",
      "LOG: Detected Entities: {'course_name': 'Artificial Intelligence'}\n",
      "LOG: Missed Entities: ['matriculation_number']\n",
      ">>>>>>>>>>>>>>>>>>>Chatbot: Missing information: matriculation number. Please provide the required details.\n",
      ">>>>>>>>>>>>>>>>>>>You: 1234567\n",
      "LOG match_rule_based_intent: user_input: 1234567, rule_based_data: {'greeting': {'patterns': ['hello', 'hi', 'good morning', 'good afternoon', 'hey', 'greetings'], 'responses': ['Hello! How can I assist you today?', 'Hi there! What can I do for you?']}, 'farewell': {'patterns': ['bye', 'goodbye', 'see you', 'take care', 'farewell'], 'responses': ['Goodbye! Have a great day!', 'See you later! Take care!']}, 'thanksgiving': {'patterns': ['thank you', 'thanks', 'appreciate it', 'grateful'], 'responses': [\"You're welcome!\", 'Glad I could help!']}, 'chatbot_identity': {'patterns': ['who are you', 'what are you', 'tell me about yourself', 'what is this', 'who am I talking to', \"what's your name\"], 'responses': [\"I am StudentDesk, your university chatbot. I'm here to assist you with any queries.\", \"I'm StudentDesk, your virtual assistant for university-related tasks.\"]}, 'chatbot_creation': {'patterns': ['who created you', 'who made you', 'who developed you', 'who built you', \"what's your origin\"], 'responses': [\"I was created by the university's development team to assist students like you.\", \"The university's IT team developed me to help answer your questions and simplify student services.\"]}, 'chatbot_creation_date': {'patterns': ['when were you created', 'how old are you', 'when did you start', 'how long have you been here'], 'responses': ['I was created in 2024 to help make student life easier.', \"I came into existence in 2024, and I've been assisting students ever since.\"]}, 'chatbot_capabilities': {'patterns': ['what can you do', 'what are your abilities', 'how can you help me', 'what is your purpose', 'what do you do', 'what services do you provide'], 'responses': ['I can help you with exam registrations, check your exam status, grades, schedules, and more.', 'I assist with university-related queries, such as registering for exams, updating personal details, and checking exam results.']}, 'chatbot_behavior': {'patterns': ['are you human', 'are you an AI', 'do you have feelings', 'how do you work', 'are you a robot'], 'responses': ['I’m an AI-powered chatbot designed to assist with your queries. I don’t have feelings, but I’m always here to help!', 'I’m not human – I’m a virtual assistant powered by artificial intelligence to help you with university tasks.']}, 'chatbot_availability': {'patterns': ['are you always available', 'are you online', 'can you help me anytime', 'are you 24/7'], 'responses': ['Yes, I’m available 24/7 to assist you with your questions and tasks.', 'I’m always here whenever you need help – day or night!']}, 'chatbot_limitations': {'patterns': ['what can’t you do', 'do you have limitations', 'are you perfect', 'what if you don’t know the answer'], 'responses': ['I can’t handle all tasks yet, but I’m constantly improving. If I don’t know something, I’ll let you know.', 'While I can help with university-related tasks, I might not have answers to everything. Let’s see how I can help you!']}, 'chatbot_funny_questions': {'patterns': ['do you sleep', 'do you dream', 'can you take over the world', 'are you smarter than me', 'are you alive'], 'responses': ['I don’t need sleep or dreams – I’m here to help you 24/7!', 'Taking over the world isn’t in my plans. Helping students is my only mission!']}, 'chatbot_personalization': {'patterns': ['do you know my name', 'can you remember me', 'can you forget me', 'can you store my information', 'do you track my data'], 'responses': ['I don’t store personal data unless you share it with me for specific tasks. Your privacy is important!', 'I only use the information you provide to assist you. I don’t track or store unnecessary data.']}, 'fallback': {'patterns': [], 'responses': ['I’m not sure how to answer that, but I can help with university-related tasks.', 'Can you clarify your question? I’m here to help with exam schedules, registrations, and student information.']}}\n",
      "LOG: process_request_with_context: classified_intent query_exam_grade\n",
      "LOG: process_request_with_context: action query_exam_grade, detected_entities {'course_name': 'Artificial Intelligence', 'matriculation_number': '1234567'}\n",
      "LOG: get_action_by_intent: query_exam_grade\n",
      "LOG: process_user_request: action <function query_exam_grade at 0x2ade2e7a0>, detected_entities {'course_name': 'Artificial Intelligence', 'matriculation_number': '1234567'}\n",
      "LOG: process_user_request: action_arguments {'course_name': 'Artificial Intelligence', 'matriculation_number': '1234567'}\n",
      "LOG query_exam_grade: Query grade 1234567 for exam Artificial Intelligence\n",
      ">>>>>>>>>>>>>>>>>>>Chatbot: Your grade for Artificial Intelligence exam is A\n",
      ">>>>>>>>>>>>>>>>>>>You: 1234567\n",
      "LOG match_rule_based_intent: user_input: 1234567, rule_based_data: {'greeting': {'patterns': ['hello', 'hi', 'good morning', 'good afternoon', 'hey', 'greetings'], 'responses': ['Hello! How can I assist you today?', 'Hi there! What can I do for you?']}, 'farewell': {'patterns': ['bye', 'goodbye', 'see you', 'take care', 'farewell'], 'responses': ['Goodbye! Have a great day!', 'See you later! Take care!']}, 'thanksgiving': {'patterns': ['thank you', 'thanks', 'appreciate it', 'grateful'], 'responses': [\"You're welcome!\", 'Glad I could help!']}, 'chatbot_identity': {'patterns': ['who are you', 'what are you', 'tell me about yourself', 'what is this', 'who am I talking to', \"what's your name\"], 'responses': [\"I am StudentDesk, your university chatbot. I'm here to assist you with any queries.\", \"I'm StudentDesk, your virtual assistant for university-related tasks.\"]}, 'chatbot_creation': {'patterns': ['who created you', 'who made you', 'who developed you', 'who built you', \"what's your origin\"], 'responses': [\"I was created by the university's development team to assist students like you.\", \"The university's IT team developed me to help answer your questions and simplify student services.\"]}, 'chatbot_creation_date': {'patterns': ['when were you created', 'how old are you', 'when did you start', 'how long have you been here'], 'responses': ['I was created in 2024 to help make student life easier.', \"I came into existence in 2024, and I've been assisting students ever since.\"]}, 'chatbot_capabilities': {'patterns': ['what can you do', 'what are your abilities', 'how can you help me', 'what is your purpose', 'what do you do', 'what services do you provide'], 'responses': ['I can help you with exam registrations, check your exam status, grades, schedules, and more.', 'I assist with university-related queries, such as registering for exams, updating personal details, and checking exam results.']}, 'chatbot_behavior': {'patterns': ['are you human', 'are you an AI', 'do you have feelings', 'how do you work', 'are you a robot'], 'responses': ['I’m an AI-powered chatbot designed to assist with your queries. I don’t have feelings, but I’m always here to help!', 'I’m not human – I’m a virtual assistant powered by artificial intelligence to help you with university tasks.']}, 'chatbot_availability': {'patterns': ['are you always available', 'are you online', 'can you help me anytime', 'are you 24/7'], 'responses': ['Yes, I’m available 24/7 to assist you with your questions and tasks.', 'I’m always here whenever you need help – day or night!']}, 'chatbot_limitations': {'patterns': ['what can’t you do', 'do you have limitations', 'are you perfect', 'what if you don’t know the answer'], 'responses': ['I can’t handle all tasks yet, but I’m constantly improving. If I don’t know something, I’ll let you know.', 'While I can help with university-related tasks, I might not have answers to everything. Let’s see how I can help you!']}, 'chatbot_funny_questions': {'patterns': ['do you sleep', 'do you dream', 'can you take over the world', 'are you smarter than me', 'are you alive'], 'responses': ['I don’t need sleep or dreams – I’m here to help you 24/7!', 'Taking over the world isn’t in my plans. Helping students is my only mission!']}, 'chatbot_personalization': {'patterns': ['do you know my name', 'can you remember me', 'can you forget me', 'can you store my information', 'do you track my data'], 'responses': ['I don’t store personal data unless you share it with me for specific tasks. Your privacy is important!', 'I only use the information you provide to assist you. I don’t track or store unnecessary data.']}, 'fallback': {'patterns': [], 'responses': ['I’m not sure how to answer that, but I can help with university-related tasks.', 'Can you clarify your question? I’m here to help with exam schedules, registrations, and student information.']}}\n",
      "LOG chatbot_classification_with_entity_validation: user_input 1234567\n",
      "\u001b[1m1/1\u001b[0m \u001b[32m━━━━━━━━━━━━━━━━━━━━\u001b[0m\u001b[37m\u001b[0m \u001b[1m0s\u001b[0m 25ms/step\n",
      "LOG find_missed_entities: classified_intent query_student_profile, detected_entities {'matriculation_number': '1234567'}\n",
      "LOG: Classified Intent: query_student_profile, Confidence: 0.989\n",
      "LOG: Detected Entities: {'matriculation_number': '1234567'}\n",
      "LOG: Missed Entities: []\n",
      ">>>>>>>>>>>>>>>>>>>Chatbot: Sorry, I couldn't identify the correct operation type.\n",
      ">>>>>>>>>>>>>>>>>>>You: bye\n",
      ">>>>>>>>>>>>>>>>>>>Chatbot: Goodbye! Have a great day!\n"
     ]
    }
   ],
   "source": [
    "user_context = {\n",
    "    \"classified_intent\": None,\n",
    "    \"detected_entities\": {},\n",
    "    \"missed_entities\": [],\n",
    "    \"matriculation_number\": None\n",
    "}\n",
    "\n",
    "confirmation_context = {\n",
    "    \"summary\": None,\n",
    "    \"classified_intent\": None,\n",
    "    \"detected_entities\": {}\n",
    "}\n",
    "\n",
    "def match_rule_based_intent(user_input, rule_based_data):\n",
    "    print(f'LOG match_rule_based_intent: user_input: {user_input}, rule_based_data: {rule_based_data}')\n",
    "    for intent, data in rule_based_data.items():\n",
    "        for pattern in data[\"patterns\"]:\n",
    "            if pattern in user_input.lower():\n",
    "                return intent\n",
    "    return None\n",
    "\n",
    "def generate_rule_based_response(intent, rule_based_data):\n",
    "    print(f'LOG generate_rule_based_response: intent {intent}, rule_based_data {rule_based_data}')\n",
    "    responses = rule_based_data[intent][\"responses\"]\n",
    "    return random.choice(responses)\n",
    "\n",
    "def chatbot_response(user_input):\n",
    "    global user_context, confirmation_context\n",
    "\n",
    "    if confirmation_context[\"summary\"]:\n",
    "        if user_input.lower() in [\"yes\", \"y\", \"correct\", \"+\", \"good\"]:\n",
    "            action, check = get_action_by_intent(confirmation_context[\"predicted_intent\"])\n",
    "            response = process_user_request(action, confirmation_context[\"detected_entities\"])\n",
    "            confirmation_context[\"summary\"] = None  \n",
    "            return response\n",
    "        elif user_input.lower() in [\"no\", \"n\", \"wrong\", \"incorrect\", \"-\"]:\n",
    "            confirmation_context[\"summary\"] = None  \n",
    "            return \"Request canceled. How else can I assist you?\"\n",
    "        else:\n",
    "            return f\"Please confirm: {confirmation_context['summary']}\"\n",
    "\n",
    "    rule_based_intent = match_rule_based_intent(user_input, rule_based_data)\n",
    "    if rule_based_intent:\n",
    "        return generate_rule_based_response(rule_based_intent, rule_based_data)\n",
    "    \n",
    "    if user_context[\"missed_entities\"]:\n",
    "        missing_entity = user_context[\"missed_entities\"].pop(0)\n",
    "\n",
    "        if missing_entity == \"matriculation_number\":\n",
    "            user_context[\"matriculation_number\"] = user_input\n",
    "        user_context[\"detected_entities\"][missing_entity] = user_input\n",
    "\n",
    "        if not user_context[\"missed_entities\"]:\n",
    "            return process_request_with_context()\n",
    "        else:\n",
    "            next_missing_entity = user_context[\"missed_entities\"][0]\n",
    "            return f\"Please provide the {human_readable_entity[next_missing_entity]}.\"\n",
    "\n",
    "    classified_intent, confidence, detected_entities, missed_entities = chatbot_classification_with_entity_validation(user_input)\n",
    "\n",
    "    print(f\"LOG: Classified Intent: {classified_intent}, Confidence: {confidence:.3f}\")\n",
    "    print(f\"LOG: Detected Entities: {detected_entities}\")\n",
    "    print(f\"LOG: Missed Entities: {missed_entities}\")\n",
    "\n",
    "    if confidence >= 0.9:\n",
    "        user_context[\"classified_intent\"] = classified_intent\n",
    "        user_context[\"detected_entities\"].update(detected_entities)\n",
    "        user_context[\"missed_entities\"] = missed_entities\n",
    "\n",
    "        if \"matriculation_number\" in user_context[\"detected_entities\"]:\n",
    "            user_context[\"matriculation_number\"] = user_context[\"detected_entities\"][\"matriculation_number\"]\n",
    "    else:\n",
    "        return \"Sorry, I couldn't identify the correct action to take.\"\n",
    "\n",
    "    if missed_entities:\n",
    "        missing_entity = missed_entities[0]\n",
    "        if missing_entity == \"matriculation_number\" and user_context.get(\"matriculation_number\"):\n",
    "            detected_entities[\"matriculation_number\"] = user_context[\"matriculation_number\"]\n",
    "        else:\n",
    "            return f\"Missing information: {human_readable_entity[missing_entity]}. Please provide the required details.\"\n",
    "\n",
    "    return summarize_and_confirm_request(classified_intent, detected_entities)\n",
    "\n",
    "def summarize_and_confirm_request(intent, detected_entities):\n",
    "    global confirmation_context\n",
    "\n",
    "    entity_summary = \", \".join(f\"{human_readable_entity[key]}: {value}\" for key, value in detected_entities.items())\n",
    "\n",
    "    if intent in reading_database:\n",
    "        action, check = get_action_by_intent(intent)\n",
    "        return process_user_request(action, detected_entities)\n",
    "    elif intent in writing_database:\n",
    "        summary = f\"You want to {intent.replace('_', ' ')} with the following details: {entity_summary}. Is this correct?\"\n",
    "        confirmation_context.update({\n",
    "            \"summary\": summary,\n",
    "            \"classified_intent\": intent,\n",
    "            \"detected_entities\": detected_entities\n",
    "        })\n",
    "        print('I m here')\n",
    "        return summary\n",
    "    else:\n",
    "        return \"Sorry, I couldn't identify the correct operation type.\"\n",
    "\n",
    "def process_request_with_context():\n",
    "    global user_context\n",
    "    classified_intent = user_context[\"classified_intent\"]\n",
    "    print(f\"LOG: process_request_with_context: classified_intent {classified_intent}\")\n",
    "    detected_entities = user_context[\"detected_entities\"]\n",
    "\n",
    "    print(f\"LOG: process_request_with_context: action {classified_intent}, detected_entities {detected_entities}\")\n",
    "\n",
    "    response = summarize_and_confirm_request(classified_intent, detected_entities)\n",
    "    \n",
    "    user_context = {\n",
    "        \"classified_intent\": None,\n",
    "        \"detected_entities\": {},\n",
    "        \"missed_entities\": [],\n",
    "        \"matriculation_number\": user_context[\"matriculation_number\"]\n",
    "    }\n",
    "    return response\n",
    "\n",
    "end = True\n",
    "print(\">>>>>>>>>>>>>>>>>>>Chatbot: Hello! I am your university chatbot. How can I help you?\")\n",
    "while end:\n",
    "    user_input = input(\"> \") \n",
    "    print(f'>>>>>>>>>>>>>>>>>>>You: {user_input}')\n",
    "    if user_input.lower() in [\"exit\", \"quit\", \"bye\"]:\n",
    "        print(\">>>>>>>>>>>>>>>>>>>Chatbot: Goodbye! Have a great day!\")\n",
    "        end = False\n",
    "    else:\n",
    "        response = chatbot_response(user_input)\n",
    "        print(f'>>>>>>>>>>>>>>>>>>>Chatbot: {response}')"
   ]
  }
 ],
 "metadata": {
  "kernelspec": {
   "display_name": "trends-of-ai-semester-project",
   "language": "python",
   "name": "python3"
  },
  "language_info": {
   "name": "python",
   "version": "3.12.0"
  }
 },
 "nbformat": 4,
 "nbformat_minor": 2
}
